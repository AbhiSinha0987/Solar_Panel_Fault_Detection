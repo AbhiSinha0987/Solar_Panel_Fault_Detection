{
 "cells": [
  {
   "cell_type": "markdown",
   "id": "02897e7d-175a-4fff-b8df-74cb61d4eea4",
   "metadata": {},
   "source": [
    "## PREDICTION FILE\n",
    "\n",
    "- 0 : Defect\n",
    "- 1 : Not Defect"
   ]
  },
  {
   "cell_type": "code",
   "execution_count": 8,
   "id": "3103a824-7697-46bf-8fa2-6893f8634dc3",
   "metadata": {},
   "outputs": [
    {
     "name": "stdout",
     "output_type": "stream",
     "text": [
      "<tensorflow.python.keras.engine.sequential.Sequential object at 0x7efedeadda90>\n"
     ]
    },
    {
     "name": "stderr",
     "output_type": "stream",
     "text": [
      "2022-09-11 09:36:48.114009: I tensorflow/compiler/jit/xla_cpu_device.cc:41] Not creating XLA devices, tf_xla_enable_xla_devices not set\n",
      "2022-09-11 09:36:48.114403: W tensorflow/stream_executor/platform/default/dso_loader.cc:60] Could not load dynamic library 'libcuda.so.1'; dlerror: libcuda.so.1: cannot open shared object file: No such file or directory\n",
      "2022-09-11 09:36:48.114426: W tensorflow/stream_executor/cuda/cuda_driver.cc:326] failed call to cuInit: UNKNOWN ERROR (303)\n",
      "2022-09-11 09:36:48.114451: I tensorflow/stream_executor/cuda/cuda_diagnostics.cc:156] kernel driver does not appear to be running on this host (vertex-mlops-dev-notebook): /proc/driver/nvidia/version does not exist\n",
      "2022-09-11 09:36:48.115615: I tensorflow/compiler/jit/xla_gpu_device.cc:99] Not creating XLA devices, tf_xla_enable_xla_devices not set\n"
     ]
    }
   ],
   "source": [
    "from tensorflow import keras\n",
    "from tensorflow.keras.models import load_model\n",
    "\n",
    "def load_saved_model():\n",
    "    return load_model('SolarPanelFaultDetection.h5')\n",
    "\n",
    "\n",
    "model = load_saved_model()\n",
    "print(model)"
   ]
  },
  {
   "cell_type": "code",
   "execution_count": 10,
   "id": "4210145d-8f36-483e-8db5-6c9b23d29b08",
   "metadata": {},
   "outputs": [
    {
     "name": "stdout",
     "output_type": "stream",
     "text": [
      "[[0.]]\n"
     ]
    },
    {
     "name": "stderr",
     "output_type": "stream",
     "text": [
      "2022-09-11 09:37:15.086771: I tensorflow/compiler/mlir/mlir_graph_optimization_pass.cc:116] None of the MLIR optimization passes are enabled (registered 2)\n",
      "2022-09-11 09:37:15.087380: I tensorflow/core/platform/profile_utils/cpu_utils.cc:112] CPU Frequency: 2299995000 Hz\n"
     ]
    }
   ],
   "source": [
    "import numpy as np\n",
    "from tensorflow.keras.preprocessing import image\n",
    "\n",
    "image_path = 'image5_fault.jpg'\n",
    "\n",
    "test_image = image.load_img(image_path, target_size = (64, 64))\n",
    "test_image = image.img_to_array(test_image)\n",
    "test_image = np.expand_dims(test_image, axis = 0)\n",
    "result = model.predict(test_image)\n",
    "print (result)"
   ]
  },
  {
   "cell_type": "code",
   "execution_count": null,
   "id": "9316fe63-a9b1-47a6-9c4f-82f249e8930b",
   "metadata": {},
   "outputs": [
    {
     "name": "stdout",
     "output_type": "stream",
     "text": [
      "Defect\n"
     ]
    }
   ],
   "source": [
    "import cv2\n",
    "\n",
    "#training_set.class_indices\n",
    "if result[0][0] == 1:\n",
    "    prediction = 'NoDefect'\n",
    "    print('Nodefect')\n",
    "    image = cv2.imread(image_path)\n",
    "    cv2.putText(image, \"No Defect predicted\", (10, 20),\n",
    "                cv2.FONT_HERSHEY_SIMPLEX, 0.5, (0, 0, 0), 2)\n",
    "    #cv2.waitKey(300)\n",
    "    cv2.imshow(\"Predictions\", image)\n",
    "    cv2.waitKey(30000)\n",
    "else:\n",
    "    prediction = 'Defect'\n",
    "    print('Defect')\n",
    "\n",
    "    image = cv2.imread(image_path)\n",
    "    cv2.putText(image, \"Defect predicted\", (10, 20),\n",
    "                cv2.FONT_HERSHEY_SIMPLEX, 0.5, (0, 0, 255), 2)\n",
    "    #cv2.waitKey(300)\n",
    "    cv2.imshow(\"Predictions\", image)\n",
    "    cv2.waitKey(30000)"
   ]
  },
  {
   "cell_type": "code",
   "execution_count": null,
   "id": "c7b74546-648a-4985-8b97-5087e962ad67",
   "metadata": {},
   "outputs": [],
   "source": []
  }
 ],
 "metadata": {
  "environment": {
   "kernel": "python3",
   "name": "common-cpu.m87",
   "type": "gcloud",
   "uri": "gcr.io/deeplearning-platform-release/base-cpu:m87"
  },
  "kernelspec": {
   "display_name": "Python 3",
   "language": "python",
   "name": "python3"
  },
  "language_info": {
   "codemirror_mode": {
    "name": "ipython",
    "version": 3
   },
   "file_extension": ".py",
   "mimetype": "text/x-python",
   "name": "python",
   "nbconvert_exporter": "python",
   "pygments_lexer": "ipython3",
   "version": "3.7.12"
  }
 },
 "nbformat": 4,
 "nbformat_minor": 5
}
