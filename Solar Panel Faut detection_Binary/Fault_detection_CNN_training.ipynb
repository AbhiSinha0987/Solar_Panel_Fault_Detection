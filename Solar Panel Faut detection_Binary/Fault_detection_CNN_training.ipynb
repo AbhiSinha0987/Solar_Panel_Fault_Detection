{
 "cells": [
  {
   "cell_type": "markdown",
   "id": "d49a7803-a4a9-4cd0-b798-e63861e77ee8",
   "metadata": {},
   "source": [
    "#############################################################################################################\n",
    "#### Copyright [2022] Capgemini.com, Inc. or its affiliates. All Rights Reserved.                           #\n",
    "### Licensed under 'IDEA by Capgemini' License. You may not use this file except in compliance with the License. #\n",
    "#############################################################################################################"
   ]
  },
  {
   "cell_type": "code",
   "execution_count": 1,
   "id": "d785e01e-5cd6-4ae9-8940-3383b0702e65",
   "metadata": {},
   "outputs": [
    {
     "name": "stderr",
     "output_type": "stream",
     "text": [
      "2022-09-11 08:08:41.821731: W tensorflow/stream_executor/platform/default/dso_loader.cc:60] Could not load dynamic library 'libcudart.so.11.0'; dlerror: libcudart.so.11.0: cannot open shared object file: No such file or directory\n",
      "2022-09-11 08:08:41.821774: I tensorflow/stream_executor/cuda/cudart_stub.cc:29] Ignore above cudart dlerror if you do not have a GPU set up on your machine.\n"
     ]
    }
   ],
   "source": [
    "# Importing the Keras libraries and packages\n",
    "from tensorflow import keras\n",
    "\n",
    "from tensorflow.keras.models import Sequential\n",
    "from tensorflow.keras.layers import Conv2D\n",
    "from tensorflow.keras.layers import MaxPooling2D\n",
    "from tensorflow.keras.layers import Flatten\n",
    "from tensorflow.keras.layers import Dense\n",
    "from tensorflow.keras.models import load_model"
   ]
  },
  {
   "cell_type": "markdown",
   "id": "e1d2a998-7f7a-4668-8f9e-55719e327810",
   "metadata": {},
   "source": [
    "### Model Building"
   ]
  },
  {
   "cell_type": "code",
   "execution_count": 2,
   "id": "94340be0-cda5-4b64-9d34-8194b0e478ea",
   "metadata": {},
   "outputs": [
    {
     "name": "stderr",
     "output_type": "stream",
     "text": [
      "2022-09-11 08:13:46.360918: I tensorflow/compiler/jit/xla_cpu_device.cc:41] Not creating XLA devices, tf_xla_enable_xla_devices not set\n",
      "2022-09-11 08:13:46.361489: W tensorflow/stream_executor/platform/default/dso_loader.cc:60] Could not load dynamic library 'libcuda.so.1'; dlerror: libcuda.so.1: cannot open shared object file: No such file or directory\n",
      "2022-09-11 08:13:46.361561: W tensorflow/stream_executor/cuda/cuda_driver.cc:326] failed call to cuInit: UNKNOWN ERROR (303)\n",
      "2022-09-11 08:13:46.361629: I tensorflow/stream_executor/cuda/cuda_diagnostics.cc:156] kernel driver does not appear to be running on this host (vertex-mlops-dev-notebook): /proc/driver/nvidia/version does not exist\n",
      "2022-09-11 08:13:46.363405: I tensorflow/compiler/jit/xla_gpu_device.cc:99] Not creating XLA devices, tf_xla_enable_xla_devices not set\n"
     ]
    }
   ],
   "source": [
    "# Initialising the CNN\n",
    "classifier = Sequential()\n",
    "\n",
    "# Step 1 - Convolution\n",
    "classifier.add(Conv2D(32, (3, 3), input_shape = (64, 64, 3), activation = 'relu'))\n",
    "# Step 2 - Pooling\n",
    "classifier.add(MaxPooling2D(pool_size = (2, 2)))\n",
    "\n",
    "# Adding a second convolutional layer\n",
    "classifier.add(Conv2D(64, (3, 3), activation = 'relu'))\n",
    "classifier.add(MaxPooling2D(pool_size = (2, 2)))\n",
    "\n",
    "# Adding a third convolutional layer\n",
    "classifier.add(Conv2D(32, (3, 3), activation = 'relu'))\n",
    "classifier.add(MaxPooling2D(pool_size = (2, 2)))\n",
    "\n",
    "# Step 3 - Flattening\n",
    "classifier.add(Flatten())\n",
    "\n",
    "# Step 4 - Full connection\n",
    "classifier.add(Dense(units = 128, activation = 'relu'))\n",
    "classifier.add(Dense(units = 1, activation = 'sigmoid'))\n"
   ]
  },
  {
   "cell_type": "markdown",
   "id": "313503c5-15a4-4f5f-9dd0-2407424ec30f",
   "metadata": {},
   "source": [
    "### Model Compiling"
   ]
  },
  {
   "cell_type": "code",
   "execution_count": 3,
   "id": "5b53d379-5a66-452d-993a-425805d8328a",
   "metadata": {},
   "outputs": [],
   "source": [
    "# Compiling the CNN\n",
    "classifier.compile(optimizer = 'adam', loss = 'binary_crossentropy', metrics = ['accuracy'])"
   ]
  },
  {
   "cell_type": "markdown",
   "id": "a06edd54-c379-4ada-9b01-84ef7a78a7dc",
   "metadata": {},
   "source": [
    "### Image loading and Preprocessing"
   ]
  },
  {
   "cell_type": "code",
   "execution_count": 13,
   "id": "b1f30140-222a-4412-b881-e8b15921c5da",
   "metadata": {
    "collapsed": true,
    "jupyter": {
     "outputs_hidden": true,
     "source_hidden": true
    },
    "tags": []
   },
   "outputs": [
    {
     "data": {
      "text/plain": [
       "['normal', 'faulty']"
      ]
     },
     "execution_count": 13,
     "metadata": {},
     "output_type": "execute_result"
    }
   ],
   "source": [
    "import os\n",
    "import shutil\n",
    "\n",
    "os.listdir(\"data/test\")"
   ]
  },
  {
   "cell_type": "code",
   "execution_count": 12,
   "id": "5b1211e1-b732-4dd9-b64b-1e08cc261414",
   "metadata": {
    "jupyter": {
     "source_hidden": true
    },
    "tags": []
   },
   "outputs": [],
   "source": [
    "shutil.rmtree(\"data/test/.ipynb_checkpoints\")"
   ]
  },
  {
   "cell_type": "code",
   "execution_count": 14,
   "id": "1f0f2390-07e6-4a15-8efc-8eee55effdf0",
   "metadata": {},
   "outputs": [
    {
     "name": "stdout",
     "output_type": "stream",
     "text": [
      "Found 240 images belonging to 2 classes.\n",
      "Found 30 images belonging to 2 classes.\n"
     ]
    }
   ],
   "source": [
    "from tensorflow.keras.preprocessing.image import ImageDataGenerator\n",
    "\n",
    "train_datagen = ImageDataGenerator(rescale = 1./255,\n",
    "                                   shear_range = 0.2,\n",
    "                                   zoom_range = 0.2,\n",
    "                                   horizontal_flip = True)\n",
    "\n",
    "test_datagen = ImageDataGenerator(rescale = 1./255)\n",
    "\n",
    "training_set = train_datagen.flow_from_directory('data/train',target_size = (64, 64),batch_size = 32,class_mode = 'binary')\n",
    "test_set = test_datagen.flow_from_directory('data/test',target_size = (64, 64),batch_size = 32, class_mode = 'binary')"
   ]
  },
  {
   "cell_type": "markdown",
   "id": "031ab0f3-c15f-43fc-9f20-7cc5341e5b7b",
   "metadata": {},
   "source": [
    "### Training and Saving"
   ]
  },
  {
   "cell_type": "code",
   "execution_count": 19,
   "id": "2a801542-dacc-4edb-bfe0-1c916980204e",
   "metadata": {},
   "outputs": [
    {
     "name": "stdout",
     "output_type": "stream",
     "text": [
      "8\n",
      "1\n"
     ]
    }
   ],
   "source": [
    "import math\n",
    "\n",
    "BATCH_SIZE=32\n",
    "\n",
    "TRAINING_SIZE = 240\n",
    "\n",
    "VALIDATION_SIZE = 32\n",
    "\n",
    "# We take the ceiling because we do not drop the remainder of the batch\n",
    "compute_steps_per_epoch = lambda x: int(math.ceil(1. * x / BATCH_SIZE))\n",
    "\n",
    "steps_per_epoch = compute_steps_per_epoch(TRAINING_SIZE)\n",
    "val_steps = compute_steps_per_epoch(VALIDATION_SIZE)\n",
    "\n",
    "print(steps_per_epoch)\n",
    "print(val_steps)"
   ]
  },
  {
   "cell_type": "code",
   "execution_count": 20,
   "id": "307609a7-20b8-494f-951f-eb2b5c8c8d51",
   "metadata": {},
   "outputs": [
    {
     "name": "stdout",
     "output_type": "stream",
     "text": [
      "Epoch 1/100\n",
      "8/8 [==============================] - 1s 124ms/step - loss: 0.6958 - accuracy: 0.4833 - val_loss: 0.6787 - val_accuracy: 0.5333\n",
      "Epoch 2/100\n",
      "8/8 [==============================] - 1s 117ms/step - loss: 0.6755 - accuracy: 0.5833 - val_loss: 0.6816 - val_accuracy: 0.5333\n",
      "Epoch 3/100\n",
      "8/8 [==============================] - 1s 112ms/step - loss: 0.6730 - accuracy: 0.5375 - val_loss: 0.6803 - val_accuracy: 0.5000\n",
      "Epoch 4/100\n",
      "8/8 [==============================] - 1s 124ms/step - loss: 0.6709 - accuracy: 0.5500 - val_loss: 0.6773 - val_accuracy: 0.5333\n",
      "Epoch 5/100\n",
      "8/8 [==============================] - 1s 115ms/step - loss: 0.6650 - accuracy: 0.5792 - val_loss: 0.6740 - val_accuracy: 0.5667\n",
      "Epoch 6/100\n",
      "8/8 [==============================] - 1s 117ms/step - loss: 0.6642 - accuracy: 0.5625 - val_loss: 0.6689 - val_accuracy: 0.5667\n",
      "Epoch 7/100\n",
      "8/8 [==============================] - 1s 115ms/step - loss: 0.6676 - accuracy: 0.5792 - val_loss: 0.6644 - val_accuracy: 0.5333\n",
      "Epoch 8/100\n",
      "8/8 [==============================] - 1s 117ms/step - loss: 0.6596 - accuracy: 0.5792 - val_loss: 0.6661 - val_accuracy: 0.6000\n",
      "Epoch 9/100\n",
      "8/8 [==============================] - 1s 116ms/step - loss: 0.6484 - accuracy: 0.6292 - val_loss: 0.6659 - val_accuracy: 0.5667\n",
      "Epoch 10/100\n",
      "8/8 [==============================] - 1s 116ms/step - loss: 0.6462 - accuracy: 0.6042 - val_loss: 0.6448 - val_accuracy: 0.6667\n",
      "Epoch 11/100\n",
      "8/8 [==============================] - 1s 112ms/step - loss: 0.6345 - accuracy: 0.6292 - val_loss: 0.6054 - val_accuracy: 0.6333\n",
      "Epoch 12/100\n",
      "8/8 [==============================] - 1s 115ms/step - loss: 0.6084 - accuracy: 0.6708 - val_loss: 0.6069 - val_accuracy: 0.5333\n",
      "Epoch 13/100\n",
      "8/8 [==============================] - 1s 116ms/step - loss: 0.6060 - accuracy: 0.6458 - val_loss: 0.5622 - val_accuracy: 0.7000\n",
      "Epoch 14/100\n",
      "8/8 [==============================] - 1s 124ms/step - loss: 0.5752 - accuracy: 0.6542 - val_loss: 0.5382 - val_accuracy: 0.6667\n",
      "Epoch 15/100\n",
      "8/8 [==============================] - 1s 116ms/step - loss: 0.5140 - accuracy: 0.6875 - val_loss: 0.5817 - val_accuracy: 0.6000\n",
      "Epoch 16/100\n",
      "8/8 [==============================] - 1s 118ms/step - loss: 0.5728 - accuracy: 0.6958 - val_loss: 0.5396 - val_accuracy: 0.7333\n",
      "Epoch 17/100\n",
      "8/8 [==============================] - 1s 112ms/step - loss: 0.5454 - accuracy: 0.6875 - val_loss: 0.4518 - val_accuracy: 0.7667\n",
      "Epoch 18/100\n",
      "8/8 [==============================] - 1s 114ms/step - loss: 0.5032 - accuracy: 0.7083 - val_loss: 0.5089 - val_accuracy: 0.6667\n",
      "Epoch 19/100\n",
      "8/8 [==============================] - 1s 113ms/step - loss: 0.4634 - accuracy: 0.8083 - val_loss: 0.4126 - val_accuracy: 0.8000\n",
      "Epoch 20/100\n",
      "8/8 [==============================] - 1s 112ms/step - loss: 0.3833 - accuracy: 0.8500 - val_loss: 0.4836 - val_accuracy: 0.7000\n",
      "Epoch 21/100\n",
      "8/8 [==============================] - 1s 116ms/step - loss: 0.4641 - accuracy: 0.7958 - val_loss: 0.4795 - val_accuracy: 0.7333\n",
      "Epoch 22/100\n",
      "8/8 [==============================] - 1s 116ms/step - loss: 0.3989 - accuracy: 0.8417 - val_loss: 0.4575 - val_accuracy: 0.8667\n",
      "Epoch 23/100\n",
      "8/8 [==============================] - 1s 116ms/step - loss: 0.3261 - accuracy: 0.8708 - val_loss: 0.3814 - val_accuracy: 0.9000\n",
      "Epoch 24/100\n",
      "8/8 [==============================] - 1s 115ms/step - loss: 0.3996 - accuracy: 0.8750 - val_loss: 0.3641 - val_accuracy: 0.8333\n",
      "Epoch 25/100\n",
      "8/8 [==============================] - 1s 115ms/step - loss: 0.3405 - accuracy: 0.8625 - val_loss: 0.2537 - val_accuracy: 0.9000\n",
      "Epoch 26/100\n",
      "8/8 [==============================] - 1s 135ms/step - loss: 0.4259 - accuracy: 0.8042 - val_loss: 0.6328 - val_accuracy: 0.6667\n",
      "Epoch 27/100\n",
      "8/8 [==============================] - 1s 115ms/step - loss: 0.3624 - accuracy: 0.8792 - val_loss: 0.3098 - val_accuracy: 0.9333\n",
      "Epoch 28/100\n",
      "8/8 [==============================] - 1s 116ms/step - loss: 0.2711 - accuracy: 0.9375 - val_loss: 0.2583 - val_accuracy: 0.9333\n",
      "Epoch 29/100\n",
      "8/8 [==============================] - 1s 115ms/step - loss: 0.2011 - accuracy: 0.9458 - val_loss: 0.2341 - val_accuracy: 0.9000\n",
      "Epoch 30/100\n",
      "8/8 [==============================] - 1s 116ms/step - loss: 0.1919 - accuracy: 0.9208 - val_loss: 0.2219 - val_accuracy: 0.9000\n",
      "Epoch 31/100\n",
      "8/8 [==============================] - 1s 116ms/step - loss: 0.1387 - accuracy: 0.9583 - val_loss: 0.1970 - val_accuracy: 0.9333\n",
      "Epoch 32/100\n",
      "8/8 [==============================] - 1s 126ms/step - loss: 0.1255 - accuracy: 0.9458 - val_loss: 0.1861 - val_accuracy: 0.9333\n",
      "Epoch 33/100\n",
      "8/8 [==============================] - 1s 130ms/step - loss: 0.1241 - accuracy: 0.9500 - val_loss: 0.2526 - val_accuracy: 0.9333\n",
      "Epoch 34/100\n",
      "8/8 [==============================] - 1s 115ms/step - loss: 0.1205 - accuracy: 0.9417 - val_loss: 0.0736 - val_accuracy: 1.0000\n",
      "Epoch 35/100\n",
      "8/8 [==============================] - 1s 118ms/step - loss: 0.0716 - accuracy: 0.9833 - val_loss: 0.1255 - val_accuracy: 0.9333\n",
      "Epoch 36/100\n",
      "8/8 [==============================] - 1s 117ms/step - loss: 0.0617 - accuracy: 0.9833 - val_loss: 0.1235 - val_accuracy: 0.9667\n",
      "Epoch 37/100\n",
      "8/8 [==============================] - 1s 116ms/step - loss: 0.1101 - accuracy: 0.9625 - val_loss: 0.1795 - val_accuracy: 0.9333\n",
      "Epoch 38/100\n",
      "8/8 [==============================] - 1s 112ms/step - loss: 0.1305 - accuracy: 0.9458 - val_loss: 0.2483 - val_accuracy: 0.9333\n",
      "Epoch 39/100\n",
      "8/8 [==============================] - 1s 116ms/step - loss: 0.1644 - accuracy: 0.9458 - val_loss: 0.1157 - val_accuracy: 0.9333\n",
      "Epoch 40/100\n",
      "8/8 [==============================] - 1s 115ms/step - loss: 0.0947 - accuracy: 0.9708 - val_loss: 0.2185 - val_accuracy: 0.9333\n",
      "Epoch 41/100\n",
      "8/8 [==============================] - 1s 125ms/step - loss: 0.1130 - accuracy: 0.9458 - val_loss: 0.1499 - val_accuracy: 0.9333\n",
      "Epoch 42/100\n",
      "8/8 [==============================] - 1s 117ms/step - loss: 0.0641 - accuracy: 0.9833 - val_loss: 0.0272 - val_accuracy: 1.0000\n",
      "Epoch 43/100\n",
      "8/8 [==============================] - 1s 115ms/step - loss: 0.0683 - accuracy: 0.9833 - val_loss: 0.0284 - val_accuracy: 1.0000\n",
      "Epoch 44/100\n",
      "8/8 [==============================] - 1s 117ms/step - loss: 0.0832 - accuracy: 0.9792 - val_loss: 0.1399 - val_accuracy: 0.9333\n",
      "Epoch 45/100\n",
      "8/8 [==============================] - 1s 117ms/step - loss: 0.0941 - accuracy: 0.9667 - val_loss: 0.0367 - val_accuracy: 1.0000\n",
      "Epoch 46/100\n",
      "8/8 [==============================] - 1s 115ms/step - loss: 0.0689 - accuracy: 0.9792 - val_loss: 0.1015 - val_accuracy: 0.9667\n",
      "Epoch 47/100\n",
      "8/8 [==============================] - 1s 115ms/step - loss: 0.0505 - accuracy: 0.9833 - val_loss: 0.1447 - val_accuracy: 0.9333\n",
      "Epoch 48/100\n",
      "8/8 [==============================] - 1s 124ms/step - loss: 0.0292 - accuracy: 1.0000 - val_loss: 0.1249 - val_accuracy: 0.9333\n",
      "Epoch 49/100\n",
      "8/8 [==============================] - 1s 124ms/step - loss: 0.0388 - accuracy: 0.9917 - val_loss: 0.0456 - val_accuracy: 1.0000\n",
      "Epoch 50/100\n",
      "8/8 [==============================] - 1s 116ms/step - loss: 0.0280 - accuracy: 0.9958 - val_loss: 0.0182 - val_accuracy: 1.0000\n",
      "Epoch 51/100\n",
      "8/8 [==============================] - 1s 112ms/step - loss: 0.0238 - accuracy: 0.9917 - val_loss: 0.0280 - val_accuracy: 1.0000\n",
      "Epoch 52/100\n",
      "8/8 [==============================] - 1s 117ms/step - loss: 0.0241 - accuracy: 0.9917 - val_loss: 0.0362 - val_accuracy: 0.9667\n",
      "Epoch 53/100\n",
      "8/8 [==============================] - 1s 119ms/step - loss: 0.0155 - accuracy: 1.0000 - val_loss: 0.0611 - val_accuracy: 0.9667\n",
      "Epoch 54/100\n",
      "8/8 [==============================] - 1s 116ms/step - loss: 0.0233 - accuracy: 0.9958 - val_loss: 0.0371 - val_accuracy: 0.9667\n",
      "Epoch 55/100\n",
      "8/8 [==============================] - 1s 117ms/step - loss: 0.0173 - accuracy: 0.9958 - val_loss: 0.0194 - val_accuracy: 1.0000\n",
      "Epoch 56/100\n",
      "8/8 [==============================] - 1s 112ms/step - loss: 0.0207 - accuracy: 0.9917 - val_loss: 0.0467 - val_accuracy: 0.9667\n",
      "Epoch 57/100\n",
      "8/8 [==============================] - 1s 116ms/step - loss: 0.0979 - accuracy: 0.9708 - val_loss: 0.0175 - val_accuracy: 1.0000\n",
      "Epoch 58/100\n",
      "8/8 [==============================] - 1s 115ms/step - loss: 0.0827 - accuracy: 0.9542 - val_loss: 0.0412 - val_accuracy: 1.0000\n",
      "Epoch 59/100\n",
      "8/8 [==============================] - 1s 115ms/step - loss: 0.0274 - accuracy: 0.9958 - val_loss: 0.0314 - val_accuracy: 1.0000\n",
      "Epoch 60/100\n",
      "8/8 [==============================] - 1s 115ms/step - loss: 0.0328 - accuracy: 0.9958 - val_loss: 0.0403 - val_accuracy: 1.0000\n",
      "Epoch 61/100\n",
      "8/8 [==============================] - 1s 116ms/step - loss: 0.0191 - accuracy: 0.9958 - val_loss: 0.0136 - val_accuracy: 1.0000\n",
      "Epoch 62/100\n",
      "8/8 [==============================] - 1s 117ms/step - loss: 0.0135 - accuracy: 0.9958 - val_loss: 0.0182 - val_accuracy: 1.0000\n",
      "Epoch 63/100\n",
      "8/8 [==============================] - 1s 118ms/step - loss: 0.0109 - accuracy: 1.0000 - val_loss: 0.0139 - val_accuracy: 1.0000\n",
      "Epoch 64/100\n",
      "8/8 [==============================] - 1s 116ms/step - loss: 0.0101 - accuracy: 1.0000 - val_loss: 0.0327 - val_accuracy: 0.9667\n",
      "Epoch 65/100\n",
      "8/8 [==============================] - 1s 117ms/step - loss: 0.0080 - accuracy: 1.0000 - val_loss: 0.0160 - val_accuracy: 1.0000\n",
      "Epoch 66/100\n",
      "8/8 [==============================] - 1s 115ms/step - loss: 0.0057 - accuracy: 1.0000 - val_loss: 0.0171 - val_accuracy: 1.0000\n",
      "Epoch 67/100\n",
      "8/8 [==============================] - 1s 113ms/step - loss: 0.0056 - accuracy: 1.0000 - val_loss: 0.0307 - val_accuracy: 0.9667\n",
      "Epoch 68/100\n",
      "8/8 [==============================] - 1s 124ms/step - loss: 0.0030 - accuracy: 1.0000 - val_loss: 0.0241 - val_accuracy: 1.0000\n",
      "Epoch 69/100\n",
      "8/8 [==============================] - 1s 115ms/step - loss: 0.0038 - accuracy: 1.0000 - val_loss: 0.0223 - val_accuracy: 1.0000\n",
      "Epoch 70/100\n",
      "8/8 [==============================] - 1s 118ms/step - loss: 0.0144 - accuracy: 0.9917 - val_loss: 0.0118 - val_accuracy: 1.0000\n",
      "Epoch 71/100\n",
      "8/8 [==============================] - 1s 124ms/step - loss: 0.0110 - accuracy: 0.9958 - val_loss: 0.0451 - val_accuracy: 0.9667\n",
      "Epoch 72/100\n",
      "8/8 [==============================] - 1s 116ms/step - loss: 0.0025 - accuracy: 1.0000 - val_loss: 0.0205 - val_accuracy: 1.0000\n",
      "Epoch 73/100\n",
      "8/8 [==============================] - 1s 116ms/step - loss: 0.0085 - accuracy: 0.9958 - val_loss: 0.0546 - val_accuracy: 0.9667\n",
      "Epoch 74/100\n",
      "8/8 [==============================] - 1s 116ms/step - loss: 0.0051 - accuracy: 1.0000 - val_loss: 0.0745 - val_accuracy: 0.9667\n",
      "Epoch 75/100\n",
      "8/8 [==============================] - 1s 112ms/step - loss: 0.0112 - accuracy: 0.9958 - val_loss: 0.0201 - val_accuracy: 1.0000\n",
      "Epoch 76/100\n",
      "8/8 [==============================] - 1s 116ms/step - loss: 0.0037 - accuracy: 1.0000 - val_loss: 0.0373 - val_accuracy: 0.9667\n",
      "Epoch 77/100\n",
      "8/8 [==============================] - 1s 125ms/step - loss: 0.0038 - accuracy: 1.0000 - val_loss: 0.0217 - val_accuracy: 1.0000\n",
      "Epoch 78/100\n",
      "8/8 [==============================] - 1s 115ms/step - loss: 0.0018 - accuracy: 1.0000 - val_loss: 0.0139 - val_accuracy: 1.0000\n",
      "Epoch 79/100\n",
      "8/8 [==============================] - 1s 117ms/step - loss: 0.0039 - accuracy: 1.0000 - val_loss: 0.0234 - val_accuracy: 1.0000\n",
      "Epoch 80/100\n",
      "8/8 [==============================] - 1s 116ms/step - loss: 0.0094 - accuracy: 0.9958 - val_loss: 0.0353 - val_accuracy: 0.9667\n",
      "Epoch 81/100\n",
      "8/8 [==============================] - 1s 116ms/step - loss: 0.0032 - accuracy: 1.0000 - val_loss: 0.0318 - val_accuracy: 0.9667\n",
      "Epoch 82/100\n",
      "8/8 [==============================] - 1s 115ms/step - loss: 0.0040 - accuracy: 1.0000 - val_loss: 0.0705 - val_accuracy: 0.9667\n",
      "Epoch 83/100\n",
      "8/8 [==============================] - 1s 116ms/step - loss: 0.0051 - accuracy: 1.0000 - val_loss: 0.0616 - val_accuracy: 0.9667\n",
      "Epoch 84/100\n",
      "8/8 [==============================] - 1s 117ms/step - loss: 0.0056 - accuracy: 0.9958 - val_loss: 0.0454 - val_accuracy: 0.9667\n",
      "Epoch 85/100\n",
      "8/8 [==============================] - 1s 116ms/step - loss: 0.0017 - accuracy: 1.0000 - val_loss: 0.0526 - val_accuracy: 0.9667\n",
      "Epoch 86/100\n",
      "8/8 [==============================] - 1s 116ms/step - loss: 0.0083 - accuracy: 0.9958 - val_loss: 0.0121 - val_accuracy: 1.0000\n",
      "Epoch 87/100\n",
      "8/8 [==============================] - 1s 119ms/step - loss: 0.0056 - accuracy: 1.0000 - val_loss: 0.0161 - val_accuracy: 1.0000\n",
      "Epoch 88/100\n",
      "8/8 [==============================] - 1s 116ms/step - loss: 0.0049 - accuracy: 1.0000 - val_loss: 0.0156 - val_accuracy: 1.0000\n",
      "Epoch 89/100\n",
      "8/8 [==============================] - 1s 117ms/step - loss: 0.0040 - accuracy: 1.0000 - val_loss: 0.0248 - val_accuracy: 1.0000\n",
      "Epoch 90/100\n",
      "8/8 [==============================] - 1s 118ms/step - loss: 0.0023 - accuracy: 1.0000 - val_loss: 0.0118 - val_accuracy: 1.0000\n",
      "Epoch 91/100\n",
      "8/8 [==============================] - 1s 117ms/step - loss: 0.0023 - accuracy: 1.0000 - val_loss: 0.0178 - val_accuracy: 1.0000\n",
      "Epoch 92/100\n",
      "8/8 [==============================] - 1s 118ms/step - loss: 0.0040 - accuracy: 1.0000 - val_loss: 0.0328 - val_accuracy: 0.9667\n",
      "Epoch 93/100\n",
      "8/8 [==============================] - 1s 125ms/step - loss: 0.0014 - accuracy: 1.0000 - val_loss: 0.0182 - val_accuracy: 1.0000\n",
      "Epoch 94/100\n",
      "8/8 [==============================] - 1s 126ms/step - loss: 0.0018 - accuracy: 1.0000 - val_loss: 0.0700 - val_accuracy: 0.9667\n",
      "Epoch 95/100\n",
      "8/8 [==============================] - 1s 130ms/step - loss: 0.0029 - accuracy: 1.0000 - val_loss: 0.0978 - val_accuracy: 0.9667\n",
      "Epoch 96/100\n",
      "8/8 [==============================] - 1s 118ms/step - loss: 0.0030 - accuracy: 1.0000 - val_loss: 0.1196 - val_accuracy: 0.9667\n",
      "Epoch 97/100\n",
      "8/8 [==============================] - 1s 116ms/step - loss: 0.0038 - accuracy: 1.0000 - val_loss: 0.0127 - val_accuracy: 1.0000\n",
      "Epoch 98/100\n",
      "8/8 [==============================] - 1s 115ms/step - loss: 0.0029 - accuracy: 1.0000 - val_loss: 0.0489 - val_accuracy: 0.9667\n",
      "Epoch 99/100\n",
      "8/8 [==============================] - 1s 116ms/step - loss: 0.0035 - accuracy: 1.0000 - val_loss: 0.0383 - val_accuracy: 0.9667\n",
      "Epoch 100/100\n",
      "8/8 [==============================] - 1s 117ms/step - loss: 0.0013 - accuracy: 1.0000 - val_loss: 0.0090 - val_accuracy: 1.0000\n"
     ]
    }
   ],
   "source": [
    "classifier.fit(training_set,\n",
    "               steps_per_epoch = 8,\n",
    "               epochs = 100,\n",
    "               validation_data = test_set,\n",
    "               validation_steps = 1)\n",
    "classifier.save('SolarPanelFaultDetection.h5')"
   ]
  },
  {
   "cell_type": "code",
   "execution_count": null,
   "id": "49b71079-3c85-4bec-bacb-2f9cc8ac73f2",
   "metadata": {},
   "outputs": [],
   "source": []
  }
 ],
 "metadata": {
  "environment": {
   "kernel": "python3",
   "name": "common-cpu.m87",
   "type": "gcloud",
   "uri": "gcr.io/deeplearning-platform-release/base-cpu:m87"
  },
  "kernelspec": {
   "display_name": "Python 3",
   "language": "python",
   "name": "python3"
  },
  "language_info": {
   "codemirror_mode": {
    "name": "ipython",
    "version": 3
   },
   "file_extension": ".py",
   "mimetype": "text/x-python",
   "name": "python",
   "nbconvert_exporter": "python",
   "pygments_lexer": "ipython3",
   "version": "3.7.12"
  }
 },
 "nbformat": 4,
 "nbformat_minor": 5
}
